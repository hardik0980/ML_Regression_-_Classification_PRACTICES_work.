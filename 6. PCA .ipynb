{
 "cells": [
  {
   "cell_type": "markdown",
   "id": "bc8b9ff8-5704-4777-8a9d-640ceb027282",
   "metadata": {},
   "source": [
    "# implementing principle comaponet analysis"
   ]
  },
  {
   "cell_type": "markdown",
   "id": "08c153b7-0ba0-410f-b849-e45f419ac6bd",
   "metadata": {},
   "source": [
    "# in this demo , you will be show how to inpmlement PCA using python"
   ]
  },
  {
   "cell_type": "code",
   "execution_count": null,
   "id": "532cbf97-face-47fd-a753-c0317e3785ae",
   "metadata": {},
   "outputs": [],
   "source": []
  },
  {
   "cell_type": "markdown",
   "id": "f03e4463-b74d-489f-8ee7-6325c811217a",
   "metadata": {},
   "source": [
    "# step 1 : import required libraries :`"
   ]
  },
  {
   "cell_type": "code",
   "execution_count": 4,
   "id": "3ca6a517-9ff7-40db-bb47-b0b831d872b3",
   "metadata": {},
   "outputs": [],
   "source": [
    "import pandas as pd\n",
    "import numpy as np \n",
    "import seaborn as sns\n",
    "import matplotlib.pyplot as plt\n",
    "from sklearn.preprocessing import StandardScaler\n",
    "from sklearn.decomposition import PCA"
   ]
  },
  {
   "cell_type": "markdown",
   "id": "7ea9efe4-60e4-441c-b0ec-00ff79c75dde",
   "metadata": {},
   "source": [
    "# Step 2 : Load the data ires file"
   ]
  },
  {
   "cell_type": "code",
   "execution_count": 6,
   "id": "2fea4df2-f095-443c-ab68-f47a92be3bee",
   "metadata": {},
   "outputs": [
    {
     "data": {
      "text/html": [
       "<div>\n",
       "<style scoped>\n",
       "    .dataframe tbody tr th:only-of-type {\n",
       "        vertical-align: middle;\n",
       "    }\n",
       "\n",
       "    .dataframe tbody tr th {\n",
       "        vertical-align: top;\n",
       "    }\n",
       "\n",
       "    .dataframe thead th {\n",
       "        text-align: right;\n",
       "    }\n",
       "</style>\n",
       "<table border=\"1\" class=\"dataframe\">\n",
       "  <thead>\n",
       "    <tr style=\"text-align: right;\">\n",
       "      <th></th>\n",
       "      <th>Id</th>\n",
       "      <th>SepalLengthCm</th>\n",
       "      <th>SepalWidthCm</th>\n",
       "      <th>PetalLengthCm</th>\n",
       "      <th>PetalWidthCm</th>\n",
       "      <th>Species</th>\n",
       "    </tr>\n",
       "  </thead>\n",
       "  <tbody>\n",
       "    <tr>\n",
       "      <th>0</th>\n",
       "      <td>1</td>\n",
       "      <td>5.1</td>\n",
       "      <td>3.5</td>\n",
       "      <td>1.4</td>\n",
       "      <td>0.2</td>\n",
       "      <td>Iris-setosa</td>\n",
       "    </tr>\n",
       "    <tr>\n",
       "      <th>1</th>\n",
       "      <td>2</td>\n",
       "      <td>4.9</td>\n",
       "      <td>3.0</td>\n",
       "      <td>1.4</td>\n",
       "      <td>0.2</td>\n",
       "      <td>Iris-setosa</td>\n",
       "    </tr>\n",
       "    <tr>\n",
       "      <th>2</th>\n",
       "      <td>3</td>\n",
       "      <td>4.7</td>\n",
       "      <td>3.2</td>\n",
       "      <td>1.3</td>\n",
       "      <td>0.2</td>\n",
       "      <td>Iris-setosa</td>\n",
       "    </tr>\n",
       "    <tr>\n",
       "      <th>3</th>\n",
       "      <td>4</td>\n",
       "      <td>4.6</td>\n",
       "      <td>3.1</td>\n",
       "      <td>1.5</td>\n",
       "      <td>0.2</td>\n",
       "      <td>Iris-setosa</td>\n",
       "    </tr>\n",
       "    <tr>\n",
       "      <th>4</th>\n",
       "      <td>5</td>\n",
       "      <td>5.0</td>\n",
       "      <td>3.6</td>\n",
       "      <td>1.4</td>\n",
       "      <td>0.2</td>\n",
       "      <td>Iris-setosa</td>\n",
       "    </tr>\n",
       "  </tbody>\n",
       "</table>\n",
       "</div>"
      ],
      "text/plain": [
       "   Id  SepalLengthCm  SepalWidthCm  PetalLengthCm  PetalWidthCm      Species\n",
       "0   1            5.1           3.5            1.4           0.2  Iris-setosa\n",
       "1   2            4.9           3.0            1.4           0.2  Iris-setosa\n",
       "2   3            4.7           3.2            1.3           0.2  Iris-setosa\n",
       "3   4            4.6           3.1            1.5           0.2  Iris-setosa\n",
       "4   5            5.0           3.6            1.4           0.2  Iris-setosa"
      ]
     },
     "execution_count": 6,
     "metadata": {},
     "output_type": "execute_result"
    }
   ],
   "source": [
    "ires_data = pd.read_csv(\"iris.csv\")\n",
    "ires_data.head()"
   ]
  },
  {
   "cell_type": "code",
   "execution_count": 7,
   "id": "cc34056e-57f1-471e-a21a-eb659991fcf1",
   "metadata": {},
   "outputs": [
    {
     "name": "stdout",
     "output_type": "stream",
     "text": [
      "row and column is :  (150, 6)\n"
     ]
    }
   ],
   "source": [
    "print(\"row and column is : \",ires_data.shape)"
   ]
  },
  {
   "cell_type": "code",
   "execution_count": 8,
   "id": "0081437a-0cde-4df7-ba89-424a9ca99dfe",
   "metadata": {},
   "outputs": [
    {
     "data": {
      "image/png": "[encoded data removed]",
      "text/plain": [
       "<Figure size 400x700 with 1 Axes>"
      ]
     },
     "metadata": {},
     "output_type": "display_data"
    }
   ],
   "source": [
    " # target variable \n",
    "\n",
    "species = ires_data.Species.value_counts()\n",
    "target_ration = species.value_counts()/len(ires_data)\n",
    "\n",
    "plt.figure(figsize=(4,7))\n",
    "plt.bar(target_ration.index,target_ration,color=\"red\")\n",
    "plt.show()"
   ]
  },
  {
   "cell_type": "markdown",
   "id": "94ba79f1-0670-487d-a320-4cea0d5bd745",
   "metadata": {},
   "source": [
    "# step 3 : feature selection`"
   ]
  },
  {
   "cell_type": "code",
   "execution_count": 12,
   "id": "743b3ca3-5a82-411c-8439-9eef7ee6c681",
   "metadata": {},
   "outputs": [],
   "source": [
    "x = ires_data.drop(columns=[\"Species\"]).values\n",
    "y = ires_data.Species.values"
   ]
  },
  {
   "cell_type": "markdown",
   "id": "78f2788c-8b0c-4f2d-ab85-8581b8a764bb",
   "metadata": {},
   "source": [
    "# Step 4 : Projection of PCA to 2D"
   ]
  },
  {
   "cell_type": "code",
   "execution_count": 15,
   "id": "bde4b829-abcd-45ab-9c90-fd406dce2c0b",
   "metadata": {},
   "outputs": [],
   "source": [
    "# data.enplained_variance_ratio_"
   ]
  },
  {
   "cell_type": "code",
   "execution_count": 24,
   "id": "b9833c7a-7557-4f09-ba86-ce092fd4e6c2",
   "metadata": {},
   "outputs": [
    {
     "data": {
      "text/html": [
       "<div>\n",
       "<style scoped>\n",
       "    .dataframe tbody tr th:only-of-type {\n",
       "        vertical-align: middle;\n",
       "    }\n",
       "\n",
       "    .dataframe tbody tr th {\n",
       "        vertical-align: top;\n",
       "    }\n",
       "\n",
       "    .dataframe thead th {\n",
       "        text-align: right;\n",
       "    }\n",
       "</style>\n",
       "<table border=\"1\" class=\"dataframe\">\n",
       "  <thead>\n",
       "    <tr style=\"text-align: right;\">\n",
       "      <th></th>\n",
       "      <th>prencipal componet 1</th>\n",
       "      <th>prencipal componet 2</th>\n",
       "    </tr>\n",
       "  </thead>\n",
       "  <tbody>\n",
       "    <tr>\n",
       "      <th>0</th>\n",
       "      <td>74.547527</td>\n",
       "      <td>0.441426</td>\n",
       "    </tr>\n",
       "    <tr>\n",
       "      <th>1</th>\n",
       "      <td>73.549143</td>\n",
       "      <td>0.309342</td>\n",
       "    </tr>\n",
       "    <tr>\n",
       "      <th>2</th>\n",
       "      <td>72.557120</td>\n",
       "      <td>0.084528</td>\n",
       "    </tr>\n",
       "    <tr>\n",
       "      <th>3</th>\n",
       "      <td>71.551791</td>\n",
       "      <td>0.160353</td>\n",
       "    </tr>\n",
       "    <tr>\n",
       "      <th>4</th>\n",
       "      <td>70.552763</td>\n",
       "      <td>0.227636</td>\n",
       "    </tr>\n",
       "    <tr>\n",
       "      <th>...</th>\n",
       "      <td>...</td>\n",
       "      <td>...</td>\n",
       "    </tr>\n",
       "    <tr>\n",
       "      <th>145</th>\n",
       "      <td>-70.519741</td>\n",
       "      <td>-0.954230</td>\n",
       "    </tr>\n",
       "    <tr>\n",
       "      <th>146</th>\n",
       "      <td>-71.501906</td>\n",
       "      <td>-1.460988</td>\n",
       "    </tr>\n",
       "    <tr>\n",
       "      <th>147</th>\n",
       "      <td>-72.510533</td>\n",
       "      <td>-1.218025</td>\n",
       "    </tr>\n",
       "    <tr>\n",
       "      <th>148</th>\n",
       "      <td>-73.515887</td>\n",
       "      <td>-1.165059</td>\n",
       "    </tr>\n",
       "    <tr>\n",
       "      <th>149</th>\n",
       "      <td>-74.493859</td>\n",
       "      <td>-1.733954</td>\n",
       "    </tr>\n",
       "  </tbody>\n",
       "</table>\n",
       "<p>150 rows × 2 columns</p>\n",
       "</div>"
      ],
      "text/plain": [
       "     prencipal componet 1  prencipal componet 2\n",
       "0               74.547527              0.441426\n",
       "1               73.549143              0.309342\n",
       "2               72.557120              0.084528\n",
       "3               71.551791              0.160353\n",
       "4               70.552763              0.227636\n",
       "..                    ...                   ...\n",
       "145            -70.519741             -0.954230\n",
       "146            -71.501906             -1.460988\n",
       "147            -72.510533             -1.218025\n",
       "148            -73.515887             -1.165059\n",
       "149            -74.493859             -1.733954\n",
       "\n",
       "[150 rows x 2 columns]"
      ]
     },
     "execution_count": 24,
     "metadata": {},
     "output_type": "execute_result"
    }
   ],
   "source": [
    "pca = PCA(n_components=2)\n",
    "x_pca = pca.fit_transform(x)\n",
    "\n",
    "principalDF = pd.DataFrame(data=x_pca, columns=[\"prencipal componet 1\",\"prencipal componet 2\"])\n",
    "principalDF"
   ]
  },
  {
   "cell_type": "markdown",
   "id": "cbc4cbaf-9cf2-47f8-a61e-ce389489ba59",
   "metadata": {},
   "source": [
    "# step 5 : concatenating DataFrame along axis=1"
   ]
  },
  {
   "cell_type": "code",
   "execution_count": 20,
   "id": "0a95eb8c-247c-4daf-90b8-a546ed65e963",
   "metadata": {},
   "outputs": [
    {
     "data": {
      "text/html": [
       "<div>\n",
       "<style scoped>\n",
       "    .dataframe tbody tr th:only-of-type {\n",
       "        vertical-align: middle;\n",
       "    }\n",
       "\n",
       "    .dataframe tbody tr th {\n",
       "        vertical-align: top;\n",
       "    }\n",
       "\n",
       "    .dataframe thead th {\n",
       "        text-align: right;\n",
       "    }\n",
       "</style>\n",
       "<table border=\"1\" class=\"dataframe\">\n",
       "  <thead>\n",
       "    <tr style=\"text-align: right;\">\n",
       "      <th></th>\n",
       "      <th>prencipal componet 1</th>\n",
       "      <th>prencipal componet 2</th>\n",
       "      <th>Species</th>\n",
       "    </tr>\n",
       "  </thead>\n",
       "  <tbody>\n",
       "    <tr>\n",
       "      <th>0</th>\n",
       "      <td>74.547527</td>\n",
       "      <td>0.441426</td>\n",
       "      <td>Iris-setosa</td>\n",
       "    </tr>\n",
       "    <tr>\n",
       "      <th>1</th>\n",
       "      <td>73.549143</td>\n",
       "      <td>0.309342</td>\n",
       "      <td>Iris-setosa</td>\n",
       "    </tr>\n",
       "    <tr>\n",
       "      <th>2</th>\n",
       "      <td>72.557120</td>\n",
       "      <td>0.084528</td>\n",
       "      <td>Iris-setosa</td>\n",
       "    </tr>\n",
       "    <tr>\n",
       "      <th>3</th>\n",
       "      <td>71.551791</td>\n",
       "      <td>0.160353</td>\n",
       "      <td>Iris-setosa</td>\n",
       "    </tr>\n",
       "    <tr>\n",
       "      <th>4</th>\n",
       "      <td>70.552763</td>\n",
       "      <td>0.227636</td>\n",
       "      <td>Iris-setosa</td>\n",
       "    </tr>\n",
       "    <tr>\n",
       "      <th>...</th>\n",
       "      <td>...</td>\n",
       "      <td>...</td>\n",
       "      <td>...</td>\n",
       "    </tr>\n",
       "    <tr>\n",
       "      <th>145</th>\n",
       "      <td>-70.519741</td>\n",
       "      <td>-0.954230</td>\n",
       "      <td>Iris-virginica</td>\n",
       "    </tr>\n",
       "    <tr>\n",
       "      <th>146</th>\n",
       "      <td>-71.501906</td>\n",
       "      <td>-1.460988</td>\n",
       "      <td>Iris-virginica</td>\n",
       "    </tr>\n",
       "    <tr>\n",
       "      <th>147</th>\n",
       "      <td>-72.510533</td>\n",
       "      <td>-1.218025</td>\n",
       "      <td>Iris-virginica</td>\n",
       "    </tr>\n",
       "    <tr>\n",
       "      <th>148</th>\n",
       "      <td>-73.515887</td>\n",
       "      <td>-1.165059</td>\n",
       "      <td>Iris-virginica</td>\n",
       "    </tr>\n",
       "    <tr>\n",
       "      <th>149</th>\n",
       "      <td>-74.493859</td>\n",
       "      <td>-1.733954</td>\n",
       "      <td>Iris-virginica</td>\n",
       "    </tr>\n",
       "  </tbody>\n",
       "</table>\n",
       "<p>150 rows × 3 columns</p>\n",
       "</div>"
      ],
      "text/plain": [
       "     prencipal componet 1  prencipal componet 2         Species\n",
       "0               74.547527              0.441426     Iris-setosa\n",
       "1               73.549143              0.309342     Iris-setosa\n",
       "2               72.557120              0.084528     Iris-setosa\n",
       "3               71.551791              0.160353     Iris-setosa\n",
       "4               70.552763              0.227636     Iris-setosa\n",
       "..                    ...                   ...             ...\n",
       "145            -70.519741             -0.954230  Iris-virginica\n",
       "146            -71.501906             -1.460988  Iris-virginica\n",
       "147            -72.510533             -1.218025  Iris-virginica\n",
       "148            -73.515887             -1.165059  Iris-virginica\n",
       "149            -74.493859             -1.733954  Iris-virginica\n",
       "\n",
       "[150 rows x 3 columns]"
      ]
     },
     "execution_count": 20,
     "metadata": {},
     "output_type": "execute_result"
    }
   ],
   "source": [
    "finalDF = pd.concat([principalDF,ires_data[\"Species\"]],axis=1)\n",
    "finalDF"
   ]
  },
  {
   "cell_type": "markdown",
   "id": "3b352d0a-1698-4950-acce-2f4cc41d55c9",
   "metadata": {},
   "source": [
    "# step 6: Visualize 2D Projection"
   ]
  },
  {
   "cell_type": "code",
   "execution_count": 34,
   "id": "b1739166-9f33-45b3-9d50-57b9a9e76f5f",
   "metadata": {},
   "outputs": [
    {
     "data": {
      "image/png": "[encoded data removed]",
      "text/plain": [
       "<Figure size 800x800 with 1 Axes>"
      ]
     },
     "metadata": {},
     "output_type": "display_data"
    }
   ],
   "source": [
    "fig = plt.figure(figsize=(8,8))\n",
    "ax = fig.add_subplot(1,1,1)\n",
    "\n",
    "ax.set_xlabel(\"prencipal componet 1\",fontsize=15)\n",
    "ax.set_ylabel(\"prencipal componet 2\",fontsize=15)\n",
    "ax.set_title(\"2 componet PCA \",fontsize=15)\n",
    "\n",
    "targets =([\"Iris-setosa\",\"Iris-versicolor\",\"Iris-virginica\"])\n",
    "\n",
    "for target in targets:\n",
    "    indiesTokeep = finalDF[\"Species\"]==target\n",
    "    ax.scatter(finalDF.loc[indiesTokeep,\"prencipal componet 1\"],\n",
    "              finalDF.loc[indiesTokeep,\"prencipal componet 2\"])\n",
    "    \n",
    "ax.legend(targets)\n",
    "ax.grid()"
   ]
  },
  {
   "cell_type": "markdown",
   "id": "9bc06413-58ec-4fdc-9968-17a3dfabe1e1",
   "metadata": {},
   "source": [
    "# step 7 : Calculating Explained Ratio"
   ]
  },
  {
   "cell_type": "code",
   "execution_count": 26,
   "id": "63d29462-e221-4ee9-ac0e-62ff1c95dacf",
   "metadata": {},
   "outputs": [
    {
     "data": {
      "text/plain": [
       "array([9.99319101e-01, 5.14403271e-04])"
      ]
     },
     "execution_count": 26,
     "metadata": {},
     "output_type": "execute_result"
    }
   ],
   "source": [
    "pca.explained_variance_ratio_"
   ]
  },
  {
   "cell_type": "code",
   "execution_count": null,
   "id": "6fbc7a18-c6c6-4f9c-ac99-1a3f0271ae8c",
   "metadata": {},
   "outputs": [],
   "source": []
  },
  {
   "cell_type": "code",
   "execution_count": null,
   "id": "9a824a4b-4f22-4cb9-9568-6d34f6134e04",
   "metadata": {},
   "outputs": [],
   "source": []
  },
  {
   "cell_type": "code",
   "execution_count": null,
   "id": "d497981c-714c-49bb-8a03-c828debf44d8",
   "metadata": {},
   "outputs": [],
   "source": []
  },
  {
   "cell_type": "code",
   "execution_count": null,
   "id": "0d23200a-97e8-4582-9f66-47c5d2aad1a5",
   "metadata": {},
   "outputs": [],
   "source": []
  },
  {
   "cell_type": "code",
   "execution_count": 20,
   "id": "ca862cee-b2e5-4c70-bbe0-d951e2b22217",
   "metadata": {},
   "outputs": [],
   "source": [
    "\n"
   ]
  },
  {
   "cell_type": "code",
   "execution_count": 30,
   "id": "612eca9b-35d6-4e87-8dd3-c9a428670ca3",
   "metadata": {},
   "outputs": [],
   "source": [
    "pca = PCA(0.95)\n",
    "prencipal_Componet = pca.fit_transform(x)"
   ]
  },
  {
   "cell_type": "code",
   "execution_count": 32,
   "id": "4750229e-c944-450b-9d4c-17ad7337780b",
   "metadata": {},
   "outputs": [],
   "source": [
    "# print(x_train.shape,x_test.shape,x.shape)"
   ]
  },
  {
   "cell_type": "code",
   "execution_count": 34,
   "id": "d250ac1d-42dc-4b5e-8bc7-24917c91e491",
   "metadata": {},
   "outputs": [
    {
     "data": {
      "text/plain": [
       "1"
      ]
     },
     "execution_count": 34,
     "metadata": {},
     "output_type": "execute_result"
    }
   ],
   "source": [
    "pca.n_components_"
   ]
  },
  {
   "cell_type": "code",
   "execution_count": 36,
   "id": "bb2b589d-3a17-4717-b995-d89226f83a3e",
   "metadata": {},
   "outputs": [
    {
     "data": {
      "text/html": [
       "<div>\n",
       "<style scoped>\n",
       "    .dataframe tbody tr th:only-of-type {\n",
       "        vertical-align: middle;\n",
       "    }\n",
       "\n",
       "    .dataframe tbody tr th {\n",
       "        vertical-align: top;\n",
       "    }\n",
       "\n",
       "    .dataframe thead th {\n",
       "        text-align: right;\n",
       "    }\n",
       "</style>\n",
       "<table border=\"1\" class=\"dataframe\">\n",
       "  <thead>\n",
       "    <tr style=\"text-align: right;\">\n",
       "      <th></th>\n",
       "      <th>prencipal componet 1</th>\n",
       "    </tr>\n",
       "  </thead>\n",
       "  <tbody>\n",
       "    <tr>\n",
       "      <th>0</th>\n",
       "      <td>74.547527</td>\n",
       "    </tr>\n",
       "    <tr>\n",
       "      <th>1</th>\n",
       "      <td>73.549143</td>\n",
       "    </tr>\n",
       "    <tr>\n",
       "      <th>2</th>\n",
       "      <td>72.557120</td>\n",
       "    </tr>\n",
       "    <tr>\n",
       "      <th>3</th>\n",
       "      <td>71.551791</td>\n",
       "    </tr>\n",
       "    <tr>\n",
       "      <th>4</th>\n",
       "      <td>70.552763</td>\n",
       "    </tr>\n",
       "    <tr>\n",
       "      <th>...</th>\n",
       "      <td>...</td>\n",
       "    </tr>\n",
       "    <tr>\n",
       "      <th>145</th>\n",
       "      <td>-70.519741</td>\n",
       "    </tr>\n",
       "    <tr>\n",
       "      <th>146</th>\n",
       "      <td>-71.501906</td>\n",
       "    </tr>\n",
       "    <tr>\n",
       "      <th>147</th>\n",
       "      <td>-72.510533</td>\n",
       "    </tr>\n",
       "    <tr>\n",
       "      <th>148</th>\n",
       "      <td>-73.515887</td>\n",
       "    </tr>\n",
       "    <tr>\n",
       "      <th>149</th>\n",
       "      <td>-74.493859</td>\n",
       "    </tr>\n",
       "  </tbody>\n",
       "</table>\n",
       "<p>150 rows × 1 columns</p>\n",
       "</div>"
      ],
      "text/plain": [
       "     prencipal componet 1\n",
       "0               74.547527\n",
       "1               73.549143\n",
       "2               72.557120\n",
       "3               71.551791\n",
       "4               70.552763\n",
       "..                    ...\n",
       "145            -70.519741\n",
       "146            -71.501906\n",
       "147            -72.510533\n",
       "148            -73.515887\n",
       "149            -74.493859\n",
       "\n",
       "[150 rows x 1 columns]"
      ]
     },
     "execution_count": 36,
     "metadata": {},
     "output_type": "execute_result"
    }
   ],
   "source": [
    "principalDF = pd.DataFrame(data=prencipal_Componet, columns=[\"prencipal componet 1\"])\n",
    "principalDF"
   ]
  },
  {
   "cell_type": "code",
   "execution_count": 27,
   "id": "ef0bbc4a-6b4a-4136-9561-20310035fa25",
   "metadata": {},
   "outputs": [
    {
     "data": {
      "text/plain": [
       "array([0.9993191])"
      ]
     },
     "execution_count": 27,
     "metadata": {},
     "output_type": "execute_result"
    }
   ],
   "source": [
    "pca.explained_variance_ratio_"
   ]
  },
  {
   "cell_type": "code",
   "execution_count": null,
   "id": "f3e48848-ad2b-4dc2-adf6-4a65c266f911",
   "metadata": {},
   "outputs": [],
   "source": []
  },
  {
   "cell_type": "code",
   "execution_count": 44,
   "id": "a7199a68-b043-4810-aa7c-1e0337a6bbb4",
   "metadata": {},
   "outputs": [
    {
     "name": "stderr",
     "output_type": "stream",
     "text": [
      "C:\\Users\\hardi\\anaconda3\\Lib\\site-packages\\sklearn\\linear_model\\_logistic.py:469: ConvergenceWarning: lbfgs failed to converge (status=1):\n",
      "STOP: TOTAL NO. of ITERATIONS REACHED LIMIT.\n",
      "\n",
      "Increase the number of iterations (max_iter) or scale the data as shown in:\n",
      "    https://scikit-learn.org/stable/modules/preprocessing.html\n",
      "Please also refer to the documentation for alternative solver options:\n",
      "    https://scikit-learn.org/stable/modules/linear_model.html#logistic-regression\n",
      "  n_iter_i = _check_optimize_result(\n"
     ]
    },
    {
     "data": {
      "text/plain": [
       "1.0"
      ]
     },
     "execution_count": 44,
     "metadata": {},
     "output_type": "execute_result"
    }
   ],
   "source": [
    "from sklearn.model_selection import train_test_split\n",
    "from sklearn.linear_model import LogisticRegression\n",
    "x_train ,x_test,y_train,y_test = train_test_split(x,y,test_size=0.2)\n",
    "\n",
    "model= LogisticRegression()\n",
    "model.fit(x_train,y_train)\n",
    "model.score(x_test,y_test)"
   ]
  },
  {
   "cell_type": "code",
   "execution_count": null,
   "id": "5ad689ee-560b-4376-8404-0ac322b17028",
   "metadata": {},
   "outputs": [],
   "source": []
  }
 ],
 "metadata": {
  "kernelspec": {
   "display_name": "Python 3 (ipykernel)",
   "language": "python",
   "name": "python3"
  },
  "language_info": {
   "codemirror_mode": {
    "name": "ipython",
    "version": 3
   },
   "file_extension": ".py",
   "mimetype": "text/x-python",
   "name": "python",
   "nbconvert_exporter": "python",
   "pygments_lexer": "ipython3",
   "version": "3.12.4"
  }
 },
 "nbformat": 4,
 "nbformat_minor": 5
}
