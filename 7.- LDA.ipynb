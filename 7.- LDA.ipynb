{
 "cells": [
  {
   "cell_type": "markdown",
   "id": "53b7db02-32df-4dfd-bc6c-ef6abed3ba0a",
   "metadata": {},
   "source": [
    "# Linear Disciminanat Analysis"
   ]
  },
  {
   "cell_type": "markdown",
   "id": "e5f104ef-138f-4c0c-a3c1-3271a7974c95",
   "metadata": {},
   "source": [
    "# step 1 : importing librarie`s"
   ]
  },
  {
   "cell_type": "code",
   "execution_count": 2,
   "id": "9541babb-d549-477a-9df6-6751dc3462ce",
   "metadata": {},
   "outputs": [],
   "source": [
    "import numpy as np\n",
    "import pandas as pd\n",
    "import seaborn as sns\n",
    "import matplotlib.pyplot as plt\n",
    "\n",
    "from sklearn.model_selection import train_test_split"
   ]
  },
  {
   "cell_type": "code",
   "execution_count": 50,
   "id": "6b435c33-0163-4520-bd35-cfd09807da57",
   "metadata": {},
   "outputs": [],
   "source": [
    "plt.rcParams[\"font.size\"]=24\n",
    "plt.rcParams[\"lines.markersize\"]=10\n"
   ]
  },
  {
   "cell_type": "markdown",
   "id": "8b68f7ea-348c-4f63-aa2c-ca84b29929d9",
   "metadata": {},
   "source": [
    "# step 2 : load the dataset/"
   ]
  },
  {
   "cell_type": "code",
   "execution_count": 53,
   "id": "75c25090-7b20-4c29-ab48-d3bc59db3567",
   "metadata": {},
   "outputs": [
    {
     "data": {
      "text/html": [
       "<div>\n",
       "<style scoped>\n",
       "    .dataframe tbody tr th:only-of-type {\n",
       "        vertical-align: middle;\n",
       "    }\n",
       "\n",
       "    .dataframe tbody tr th {\n",
       "        vertical-align: top;\n",
       "    }\n",
       "\n",
       "    .dataframe thead th {\n",
       "        text-align: right;\n",
       "    }\n",
       "</style>\n",
       "<table border=\"1\" class=\"dataframe\">\n",
       "  <thead>\n",
       "    <tr style=\"text-align: right;\">\n",
       "      <th></th>\n",
       "      <th>Id</th>\n",
       "      <th>SepalLengthCm</th>\n",
       "      <th>SepalWidthCm</th>\n",
       "      <th>PetalLengthCm</th>\n",
       "      <th>PetalWidthCm</th>\n",
       "      <th>Species</th>\n",
       "    </tr>\n",
       "  </thead>\n",
       "  <tbody>\n",
       "    <tr>\n",
       "      <th>0</th>\n",
       "      <td>1</td>\n",
       "      <td>5.1</td>\n",
       "      <td>3.5</td>\n",
       "      <td>1.4</td>\n",
       "      <td>0.2</td>\n",
       "      <td>Iris-setosa</td>\n",
       "    </tr>\n",
       "    <tr>\n",
       "      <th>1</th>\n",
       "      <td>2</td>\n",
       "      <td>4.9</td>\n",
       "      <td>3.0</td>\n",
       "      <td>1.4</td>\n",
       "      <td>0.2</td>\n",
       "      <td>Iris-setosa</td>\n",
       "    </tr>\n",
       "    <tr>\n",
       "      <th>2</th>\n",
       "      <td>3</td>\n",
       "      <td>4.7</td>\n",
       "      <td>3.2</td>\n",
       "      <td>1.3</td>\n",
       "      <td>0.2</td>\n",
       "      <td>Iris-setosa</td>\n",
       "    </tr>\n",
       "    <tr>\n",
       "      <th>3</th>\n",
       "      <td>4</td>\n",
       "      <td>4.6</td>\n",
       "      <td>3.1</td>\n",
       "      <td>1.5</td>\n",
       "      <td>0.2</td>\n",
       "      <td>Iris-setosa</td>\n",
       "    </tr>\n",
       "    <tr>\n",
       "      <th>4</th>\n",
       "      <td>5</td>\n",
       "      <td>5.0</td>\n",
       "      <td>3.6</td>\n",
       "      <td>1.4</td>\n",
       "      <td>0.2</td>\n",
       "      <td>Iris-setosa</td>\n",
       "    </tr>\n",
       "  </tbody>\n",
       "</table>\n",
       "</div>"
      ],
      "text/plain": [
       "   Id  SepalLengthCm  SepalWidthCm  PetalLengthCm  PetalWidthCm      Species\n",
       "0   1            5.1           3.5            1.4           0.2  Iris-setosa\n",
       "1   2            4.9           3.0            1.4           0.2  Iris-setosa\n",
       "2   3            4.7           3.2            1.3           0.2  Iris-setosa\n",
       "3   4            4.6           3.1            1.5           0.2  Iris-setosa\n",
       "4   5            5.0           3.6            1.4           0.2  Iris-setosa"
      ]
     },
     "execution_count": 53,
     "metadata": {},
     "output_type": "execute_result"
    }
   ],
   "source": [
    "data = pd.read_csv(\"iris.csv\")\n",
    "data.head()"
   ]
  },
  {
   "cell_type": "code",
   "execution_count": 55,
   "id": "d0e53fbb-79a0-4775-884d-1033659efc05",
   "metadata": {},
   "outputs": [],
   "source": [
    "# from sklearn.preprocessing import LabelEncoder,OneHotEncoder\n",
    "# onehot = OneHotEncoder()\n",
    "# onehot.transform(data[\"Species\"])\n",
    "# onehot.fit(data[\"Species\"])"
   ]
  },
  {
   "cell_type": "code",
   "execution_count": 7,
   "id": "0dd1663b-a98f-4521-b1b2-09a91b2467d5",
   "metadata": {},
   "outputs": [
    {
     "data": {
      "text/plain": [
       "Species\n",
       "Iris-setosa        50\n",
       "Iris-versicolor    50\n",
       "Iris-virginica     50\n",
       "Name: count, dtype: int64"
      ]
     },
     "execution_count": 7,
     "metadata": {},
     "output_type": "execute_result"
    }
   ],
   "source": [
    "data.Species.value_counts()"
   ]
  },
  {
   "cell_type": "code",
   "execution_count": 8,
   "id": "6d46bdf6-8848-4d3f-b2a4-bc3020709ccc",
   "metadata": {},
   "outputs": [
    {
     "data": {
      "text/plain": [
       "array([0, 0, 0, 0, 0, 0, 0, 0, 0, 0, 0, 0, 0, 0, 0, 0, 0, 0, 0, 0, 0, 0,\n",
       "       0, 0, 0, 0, 0, 0, 0, 0, 0, 0, 0, 0, 0, 0, 0, 0, 0, 0, 0, 0, 0, 0,\n",
       "       0, 0, 0, 0, 0, 0, 1, 1, 1, 1, 1, 1, 1, 1, 1, 1, 1, 1, 1, 1, 1, 1,\n",
       "       1, 1, 1, 1, 1, 1, 1, 1, 1, 1, 1, 1, 1, 1, 1, 1, 1, 1, 1, 1, 1, 1,\n",
       "       1, 1, 1, 1, 1, 1, 1, 1, 1, 1, 1, 1, 2, 2, 2, 2, 2, 2, 2, 2, 2, 2,\n",
       "       2, 2, 2, 2, 2, 2, 2, 2, 2, 2, 2, 2, 2, 2, 2, 2, 2, 2, 2, 2, 2, 2,\n",
       "       2, 2, 2, 2, 2, 2, 2, 2, 2, 2, 2, 2, 2, 2, 2, 2, 2, 2])"
      ]
     },
     "execution_count": 8,
     "metadata": {},
     "output_type": "execute_result"
    }
   ],
   "source": [
    "from sklearn.preprocessing import LabelEncoder , StandardScaler\n",
    "\n",
    "label_encoder = LabelEncoder()\n",
    "\n",
    "lb= label_encoder.fit_transform(data['Species'])\n",
    "lb"
   ]
  },
  {
   "cell_type": "code",
   "execution_count": 57,
   "id": "64f8a033-a8a2-4350-899d-a7687042eed0",
   "metadata": {},
   "outputs": [
    {
     "data": {
      "text/plain": [
       "array([0, 0, 0, 0, 0, 0, 0, 0, 0, 0, 0, 0, 0, 0, 0, 0, 0, 0, 0, 0, 0, 0,\n",
       "       0, 0, 0, 0, 0, 0, 0, 0, 0, 0, 0, 0, 0, 0, 0, 0, 0, 0, 0, 0, 0, 0,\n",
       "       0, 0, 0, 0, 0, 0, 1, 1, 1, 1, 1, 1, 1, 1, 1, 1, 1, 1, 1, 1, 1, 1,\n",
       "       1, 1, 1, 1, 1, 1, 1, 1, 1, 1, 1, 1, 1, 1, 1, 1, 1, 1, 1, 1, 1, 1,\n",
       "       1, 1, 1, 1, 1, 1, 1, 1, 1, 1, 1, 1, 2, 2, 2, 2, 2, 2, 2, 2, 2, 2,\n",
       "       2, 2, 2, 2, 2, 2, 2, 2, 2, 2, 2, 2, 2, 2, 2, 2, 2, 2, 2, 2, 2, 2,\n",
       "       2, 2, 2, 2, 2, 2, 2, 2, 2, 2, 2, 2, 2, 2, 2, 2, 2, 2])"
      ]
     },
     "execution_count": 57,
     "metadata": {},
     "output_type": "execute_result"
    }
   ],
   "source": [
    "x = data.drop(\"Species\",axis=1).values\n",
    "y = lb\n",
    "\n",
    "# y = data.Species.map({\"Iris-setosa\":1,\"Iris-versicolor\":2,\"Iris-virginica\":3}).values\n",
    "y\n",
    "\n"
   ]
  },
  {
   "cell_type": "code",
   "execution_count": 59,
   "id": "f21dc6b6-8acd-4815-b213-30d540aa9619",
   "metadata": {},
   "outputs": [],
   "source": [
    "x_train,x_test,y_train,y_test = train_test_split(x,y,test_size=0.2,random_state=0)"
   ]
  },
  {
   "cell_type": "code",
   "execution_count": 61,
   "id": "d9f33542-4c04-4034-843b-17998f82d666",
   "metadata": {},
   "outputs": [],
   "source": [
    "sc = StandardScaler()\n",
    "x_train= sc.fit_transform(x_train)\n",
    "x_test = sc.transform(x_test)\n"
   ]
  },
  {
   "cell_type": "code",
   "execution_count": 23,
   "id": "223c8ebb-e1e2-46a3-8353-1bb84a00e1ac",
   "metadata": {},
   "outputs": [
    {
     "name": "stdout",
     "output_type": "stream",
     "text": [
      "Original Species Labels: ['Iris-setosa' 'Iris-versicolor' 'Iris-virginica']\n",
      "Encoded Labels (y): [0 0 0 0 0 0 0 0 0 0 0 0 0 0 0 0 0 0 0 0 0 0 0 0 0 0 0 0 0 0 0 0 0 0 0 0 0\n",
      " 0 0 0 0 0 0 0 0 0 0 0 0 0 1 1 1 1 1 1 1 1 1 1 1 1 1 1 1 1 1 1 1 1 1 1 1 1\n",
      " 1 1 1 1 1 1 1 1 1 1 1 1 1 1 1 1 1 1 1 1 1 1 1 1 1 1 2 2 2 2 2 2 2 2 2 2 2\n",
      " 2 2 2 2 2 2 2 2 2 2 2 2 2 2 2 2 2 2 2 2 2 2 2 2 2 2 2 2 2 2 2 2 2 2 2 2 2\n",
      " 2 2]\n"
     ]
    },
    {
     "data": {
      "text/plain": [
       "array([0, 0, 0, 0, 0, 0, 0, 0, 0, 0, 0, 0, 0, 0, 0, 0, 0, 0, 0, 0, 0, 0,\n",
       "       0, 0, 0, 0, 0, 0, 0, 0, 0, 0, 0, 0, 0, 0, 0, 0, 0, 0, 0, 0, 0, 0,\n",
       "       0, 0, 0, 0, 0, 0, 1, 1, 1, 1, 1, 1, 1, 1, 1, 1, 1, 1, 1, 1, 1, 1,\n",
       "       1, 1, 1, 1, 1, 1, 1, 1, 1, 1, 1, 1, 1, 1, 1, 1, 1, 1, 1, 1, 1, 1,\n",
       "       1, 1, 1, 1, 1, 1, 1, 1, 1, 1, 1, 1, 2, 2, 2, 2, 2, 2, 2, 2, 2, 2,\n",
       "       2, 2, 2, 2, 2, 2, 2, 2, 2, 2, 2, 2, 2, 2, 2, 2, 2, 2, 2, 2, 2, 2,\n",
       "       2, 2, 2, 2, 2, 2, 2, 2, 2, 2, 2, 2, 2, 2, 2, 2, 2, 2])"
      ]
     },
     "execution_count": 23,
     "metadata": {},
     "output_type": "execute_result"
    }
   ],
   "source": [
    "\n",
    "from sklearn.preprocessing import LabelEncoder\n",
    "\n",
    "# Create an instance of LabelEncoder\n",
    "label_encoder = LabelEncoder()\n",
    "\n",
    "# Fit and transform the 'Species' column to numeric labels\n",
    "y = label_encoder.fit_transform(data['Species'])\n",
    "\n",
    "# Print unique species in the original dataset\n",
    "print(\"Original Species Labels:\", data['Species'].unique())\n",
    "\n",
    "# Print encoded labels\n",
    "print(\"Encoded Labels (y):\",y)\n",
    "y"
   ]
  },
  {
   "cell_type": "markdown",
   "id": "2e4ed40f-a2aa-4105-b510-3e3717ff1976",
   "metadata": {},
   "source": [
    "# step 3: perform feature scalling"
   ]
  },
  {
   "cell_type": "code",
   "execution_count": 26,
   "id": "5f2520e4-d872-4e4d-bb38-cfda821205e6",
   "metadata": {},
   "outputs": [],
   "source": [
    "from sklearn.preprocessing import StandardScaler\n",
    "\n",
    "sc = StandardScaler()\n",
    "x_train= sc.fit_transform(x_train)\n",
    "x_test =sc.fit(x_test)"
   ]
  },
  {
   "cell_type": "code",
   "execution_count": 28,
   "id": "56eadc85-631f-4401-bb1a-383a7c78a510",
   "metadata": {},
   "outputs": [
    {
     "data": {
      "text/plain": [
       "array([[ 1.34636602,  0.61303014,  0.10850105,  0.94751783,  0.73603967],\n",
       "       [ 0.16184701, -0.56776627, -0.12400121,  0.38491447,  0.34808318],\n",
       "       [-1.11206965, -0.80392556,  1.03851009, -1.30289562, -1.3330616 ],\n",
       "       [ 1.12287187,  0.25879121, -0.12400121,  0.60995581,  0.73603967],\n",
       "       [ 1.23461894,  0.61303014, -0.58900572,  1.00377816,  1.25331499],\n",
       "       [-0.39688836, -0.80392556, -0.82150798,  0.04735245,  0.21876435],\n",
       "       [-1.31321439, -0.21352735,  1.73601687, -1.19037495, -1.20374277],\n",
       "       [ 0.1394976 ,  0.14071157, -0.82150798,  0.72247648,  0.47740201],\n",
       "       [-0.35218953,  0.02263193, -0.12400121,  0.21613346,  0.34808318],\n",
       "       [ 0.34064234, -0.09544771, -1.05401024,  0.10361279, -0.03987331],\n",
       "       [ 0.78763064,  1.0853487 , -0.12400121,  0.94751783,  1.12399616],\n",
       "       [-1.67080503, -1.39432376,  0.34100331, -1.41541629, -1.3330616 ],\n",
       "       [ 1.43576368,  1.20342834,  0.10850105,  0.72247648,  1.38263382],\n",
       "       [-0.75447901, -1.04008484,  1.03851009, -1.24663528, -0.81578628],\n",
       "       [-1.49200971, -0.56776627,  1.50351461, -1.30289562, -1.3330616 ],\n",
       "       [-0.37453895, -1.04008484, -2.4490238 , -0.1776889 , -0.29851096],\n",
       "       [ 0.8770283 ,  0.73110978, -0.12400121,  0.94751783,  0.73603967],\n",
       "       [ 1.50281193,  0.96726906,  0.57350557,  1.0600385 ,  1.64127148],\n",
       "       [ 0.94407655,  0.14071157, -1.98401928,  0.66621615,  0.34808318],\n",
       "       [ 0.69823298,  0.96726906, -1.2865125 ,  1.11629884,  0.73603967],\n",
       "       [-0.17339421, -0.33160699, -1.2865125 ,  0.04735245, -0.16919214],\n",
       "       [ 1.30166719,  2.14806547, -0.12400121,  1.28507985,  1.38263382],\n",
       "       [-0.46393661,  0.49495049,  0.57350557,  0.49743514,  0.47740201],\n",
       "       [ 0.07244935, -0.44968663, -1.51901476, -0.00890789, -0.16919214],\n",
       "       [ 1.03347421,  0.49495049, -0.82150798,  0.60995581,  0.73603967],\n",
       "       [ 1.25696836,  0.49495049, -0.58900572,  0.72247648,  0.34808318],\n",
       "       [ 0.65353415, -1.15816448, -1.2865125 ,  0.38491447,  0.60672084],\n",
       "       [ 1.54751076,  0.49495049, -1.2865125 ,  0.66621615,  0.8653585 ],\n",
       "       [-0.5980331 ,  1.32150798,  0.34100331,  0.49743514,  0.21876435],\n",
       "       [ 1.56986017,  0.73110978, -0.12400121,  0.77873682,  0.99467733],\n",
       "       [ 0.18419643,  0.14071157,  0.80600783,  0.38491447,  0.47740201],\n",
       "       [-1.0450214 , -1.27624412,  0.10850105, -1.24663528, -1.3330616 ],\n",
       "       [ 0.54178707, -0.09544771, -0.82150798,  0.72247648,  0.8653585 ],\n",
       "       [ 0.38534117, -0.33160699, -0.82150798,  0.21613346,  0.08944552],\n",
       "       [-0.28514129, -0.33160699, -0.35650346, -0.12142856,  0.08944552],\n",
       "       [ 0.27359409, -0.44968663, -1.2865125 ,  0.10361279,  0.08944552],\n",
       "       [ 0.31829292,  0.25879121, -0.12400121,  0.4411748 ,  0.21876435],\n",
       "       [ 1.07817304,  1.55766726,  0.34100331,  1.22881951,  0.73603967],\n",
       "       [-0.64273193, -0.68584591,  1.50351461, -1.30289562, -1.3330616 ],\n",
       "       [-1.42496146, -1.86664232, -0.12400121, -1.52793696, -1.46238043],\n",
       "       [ 0.76528122,  0.61303014, -0.82150798,  0.83499716,  0.8653585 ],\n",
       "       [ 0.40769058, -0.21352735, -0.12400121,  0.21613346, -0.03987331],\n",
       "       [-1.26851556, -0.56776627,  0.80600783, -1.19037495, -1.3330616 ],\n",
       "       [-1.38026263, -0.21352735,  3.13103043, -1.30289562, -1.07442394],\n",
       "       [-0.55333427,  1.20342834,  0.10850105,  0.60995581,  0.34808318],\n",
       "       [-1.64845561, -1.5124034 ,  0.10850105, -1.30289562, -1.3330616 ],\n",
       "       [ 1.614559  ,  0.02263193, -0.12400121,  0.72247648,  0.73603967],\n",
       "       [ 0.47473883, -0.9220052 , -1.2865125 , -0.45899058, -0.16919214],\n",
       "       [-1.58140737, -1.5124034 ,  0.80600783, -1.35915595, -1.20374277],\n",
       "       [-0.19574363,  0.37687085, -1.98401928,  0.38491447,  0.34808318],\n",
       "       [ 0.72058239,  1.55766726,  1.27101235,  1.28507985,  1.64127148],\n",
       "       [ 0.43004   , -0.21352735, -0.35650346,  0.21613346,  0.08944552],\n",
       "       [-1.44731088, -1.27624412, -0.12400121, -1.35915595, -1.46238043],\n",
       "       [ 0.56413649,  1.43958762, -0.12400121,  1.17255917,  1.12399616],\n",
       "       [ 0.96642596,  1.20342834,  0.34100331,  1.0600385 ,  1.38263382],\n",
       "       [ 0.60883532,  0.73110978, -0.12400121,  1.11629884,  1.25331499],\n",
       "       [ 1.14522128,  0.61303014, -0.58900572,  1.00377816,  1.12399616],\n",
       "       [-0.68743076, -0.9220052 ,  1.73601687, -1.24663528, -1.3330616 ],\n",
       "       [-1.46966029, -1.27624412,  0.80600783, -1.24663528, -1.3330616 ],\n",
       "       [ 0.74293181,  0.73110978,  0.34100331,  0.72247648,  0.99467733],\n",
       "       [ 1.05582362,  0.96726906,  0.57350557,  1.0600385 ,  1.12399616],\n",
       "       [-0.79917784, -1.63048304, -1.75151702, -1.41541629, -1.20374277],\n",
       "       [ 1.59220959,  0.37687085,  0.80600783,  0.89125749,  1.38263382],\n",
       "       [-1.69315444, -1.15816448, -0.12400121, -1.35915595, -1.3330616 ],\n",
       "       [ 0.80998005, -0.21352735, -1.2865125 ,  0.66621615,  0.99467733],\n",
       "       [ 1.39106485,  1.20342834,  0.10850105,  0.89125749,  1.12399616],\n",
       "       [-0.77682842, -1.74856268,  0.34100331, -1.41541629, -1.3330616 ],\n",
       "       [-1.6261062 , -1.04008484,  1.27101235, -1.35915595, -1.3330616 ],\n",
       "       [ 1.1675707 ,  1.55766726, -0.12400121,  1.11629884,  0.47740201],\n",
       "       [-1.3355638 , -0.9220052 ,  1.03851009, -1.35915595, -1.20374277],\n",
       "       [-0.86622608, -1.74856268, -0.12400121, -1.41541629, -1.3330616 ],\n",
       "       [-1.60375678, -0.56776627,  1.96851913, -1.19037495, -1.07442394],\n",
       "       [-0.53098486, -0.44968663, -1.75151702,  0.10361279,  0.08944552],\n",
       "       [ 1.48046251,  1.0853487 ,  0.34100331,  1.17255917,  1.38263382],\n",
       "       [ 0.63118473,  2.02998583, -0.12400121,  1.56638153,  1.12399616],\n",
       "       [-1.71550386, -0.9220052 ,  1.03851009, -1.35915595, -1.3330616 ],\n",
       "       [-0.95562374, -1.15816448,  0.10850105, -1.30289562, -1.46238043],\n",
       "       [-1.08972023, -0.80392556,  0.80600783, -1.35915595, -1.3330616 ],\n",
       "       [-0.48628603, -0.21352735, -0.58900572,  0.38491447,  0.08944552],\n",
       "       [-0.03929772,  0.84918942, -0.12400121,  0.32865413,  0.21876435],\n",
       "       [-0.93327433, -1.04008484,  0.34100331, -1.47167663, -1.3330616 ],\n",
       "       [-1.20146731, -0.9220052 ,  0.57350557, -1.19037495, -0.94510511],\n",
       "       [-0.06164714,  0.61303014, -0.35650346,  0.27239379,  0.08944552],\n",
       "       [-1.02267199, -0.56776627,  0.80600783, -1.30289562, -1.07442394],\n",
       "       [ 0.92172713,  2.14806547, -1.05401024,  1.73516253,  1.38263382],\n",
       "       [-0.44158719, -1.15816448, -1.51901476, -0.29020957, -0.29851096],\n",
       "       [ 1.21226953,  2.38422475,  1.73601687,  1.45386085,  0.99467733],\n",
       "       [-0.26279187,  0.96726906,  0.10850105,  0.32865413,  0.21876435],\n",
       "       [-1.00032257, -0.80392556,  2.43352365, -1.30289562, -1.46238043],\n",
       "       [ 1.36871543,  0.14071157, -0.12400121,  0.55369548,  0.73603967],\n",
       "       [-1.40261205, -0.09544771,  2.20102139, -1.47167663, -1.3330616 ],\n",
       "       [ 1.01112479,  2.14806547, -0.58900572,  1.62264186,  0.99467733],\n",
       "       [-1.29086497, -0.9220052 ,  1.73601687, -1.30289562, -1.20374277],\n",
       "       [-1.06737082, -1.39432376,  0.34100331, -1.24663528, -1.3330616 ],\n",
       "       [ 1.18992011,  1.79382654, -0.58900572,  1.28507985,  0.8653585 ],\n",
       "       [-0.62038252, -1.04008484,  0.57350557, -1.35915595, -1.3330616 ],\n",
       "       [ 1.3240166 ,  0.49495049,  0.80600783,  1.00377816,  1.51195265],\n",
       "       [ 0.49708824, -0.21352735, -0.58900572,  0.15987312,  0.08944552],\n",
       "       [ 0.11714818, -0.09544771, -0.82150798,  0.04735245, -0.03987331],\n",
       "       [ 0.05009994, -0.21352735, -1.05401024, -0.1776889 , -0.29851096],\n",
       "       [ 0.85467889,  0.61303014,  0.34100331,  0.83499716,  1.38263382],\n",
       "       [ 1.52516134,  0.96726906, -0.12400121,  0.77873682,  1.38263382],\n",
       "       [-0.10634597,  0.49495049, -1.2865125 ,  0.60995581,  0.34808318],\n",
       "       [ 0.00540111,  0.96726906, -0.12400121,  0.66621615,  0.60672084],\n",
       "       [-1.15676848, -1.04008484, -0.12400121, -1.24663528, -1.3330616 ],\n",
       "       [ 0.09479877, -0.44968663, -1.51901476, -0.06516822, -0.29851096],\n",
       "       [ 1.41341426,  0.96726906,  0.10850105,  1.00377816,  1.51195265],\n",
       "       [ 1.45811309, -0.09544771, -0.82150798,  0.72247648,  0.8653585 ],\n",
       "       [-0.84387667, -0.9220052 ,  0.80600783, -1.30289562, -1.3330616 ],\n",
       "       [-0.41923778,  0.84918942, -0.35650346,  0.4411748 ,  0.08944552],\n",
       "       [ 0.25124468, -0.33160699, -0.12400121,  0.15987312,  0.08944552],\n",
       "       [-0.1510448 ,  0.02263193,  0.34100331,  0.55369548,  0.73603967],\n",
       "       [ 0.22889526,  0.49495049, -1.75151702,  0.32865413,  0.08944552],\n",
       "       [-0.91092491, -0.44968663,  1.03851009, -1.41541629, -1.3330616 ],\n",
       "       [-1.24616614, -0.9220052 ,  1.50351461, -1.30289562, -1.07442394],\n",
       "       [-1.51435912, -1.15816448,  0.10850105, -1.30289562, -1.46238043],\n",
       "       [ 0.5864859 ,  0.49495049, -0.35650346,  1.00377816,  0.73603967],\n",
       "       [-0.21809304, -0.09544771, -0.82150798,  0.15987312, -0.29851096],\n",
       "       [ 0.89937772,  2.14806547,  1.73601687,  1.62264186,  1.25331499],\n",
       "       [-0.66508135, -1.5124034 ,  0.34100331, -1.35915595, -1.3330616 ]])"
      ]
     },
     "execution_count": 28,
     "metadata": {},
     "output_type": "execute_result"
    }
   ],
   "source": [
    "x_train"
   ]
  },
  {
   "cell_type": "markdown",
   "id": "d403a5f5-0eed-45df-a51a-c307c1e2432f",
   "metadata": {},
   "source": [
    "# step 4 : perform LDA "
   ]
  },
  {
   "cell_type": "code",
   "execution_count": 63,
   "id": "0a7e5828-02ab-4524-b34d-e2a493218763",
   "metadata": {},
   "outputs": [],
   "source": [
    "from sklearn.discriminant_analysis import LinearDiscriminantAnalysis as LDA\n",
    "\n",
    "lda = LDA(n_components=1)\n",
    "x_train=lda.fit_transform(x_train,y_train)\n",
    "x_test = lda.transform(x_test)"
   ]
  },
  {
   "cell_type": "raw",
   "id": "40105f75-d9ba-4fea-ad13-3092022581ca",
   "metadata": {},
   "source": [
    "## LinearDiscriminantAnalysis class is imported as LDA. Like PCA, we have to pass the value for the n_components parameter of the LDA, which refers to the number of linear discriminates that we want to retrieve. In this case we set the n_components to 1, since we first want to check the performance of our classifier with a single linear discriminant. Finally we execute the fit and transform methods to actually retrieve the linear discriminants.\n",
    "\n",
    "## Notice, in case of LDA, the transform method takes two parameters: the X_train and the y_train. However in the case of PCA, the transform method only requires one parameter i.e. X_train. This reflects the fact that LDA takes the output class labels into account while selecting the linear discriminants, while PCA doesn't depend upon the output labels."
   ]
  },
  {
   "cell_type": "code",
   "execution_count": 65,
   "id": "d41b48da-b92a-4a76-8539-7ee87825e407",
   "metadata": {},
   "outputs": [
    {
     "data": {
      "text/plain": [
       "array([[-6.49764596],\n",
       "       [-2.82313269],\n",
       "       [ 8.90868583],\n",
       "       [-5.18089603],\n",
       "       [-7.69382729],\n",
       "       [-0.93291828],\n",
       "       [ 9.36483935],\n",
       "       [-4.15500146],\n",
       "       [-0.90355846],\n",
       "       [-1.48035219],\n",
       "       [-5.98844059],\n",
       "       [ 9.42774732],\n",
       "       [-6.27683413],\n",
       "       [ 7.15715415],\n",
       "       [ 9.90694776],\n",
       "       [-0.26153098],\n",
       "       [-5.79938775],\n",
       "       [-8.08026899],\n",
       "       [-5.55422705],\n",
       "       [-6.60332848],\n",
       "       [-0.55695279],\n",
       "       [-7.73030438],\n",
       "       [-1.35308845],\n",
       "       [-0.91635508],\n",
       "       [-5.21242292],\n",
       "       [-5.29789463],\n",
       "       [-5.00816158],\n",
       "       [-6.66340708],\n",
       "       [-0.23863048],\n",
       "       [-6.58855216],\n",
       "       [-2.05444043],\n",
       "       [ 7.75631572],\n",
       "       [-5.55100389],\n",
       "       [-2.26278884],\n",
       "       [ 0.36148195],\n",
       "       [-1.960002  ],\n",
       "       [-2.46583678],\n",
       "       [-6.38141216],\n",
       "       [ 8.50561223],\n",
       "       [ 9.10824176],\n",
       "       [-5.81134045],\n",
       "       [-1.66067907],\n",
       "       [ 8.76105734],\n",
       "       [10.41913517],\n",
       "       [-1.163975  ],\n",
       "       [ 8.73546447],\n",
       "       [-6.57143708],\n",
       "       [ 0.02874968],\n",
       "       [ 9.00799279],\n",
       "       [-2.48444   ],\n",
       "       [-6.98006734],\n",
       "       [-2.00994081],\n",
       "       [ 8.91212287],\n",
       "       [-6.27887847],\n",
       "       [-6.79187297],\n",
       "       [-6.85738183],\n",
       "       [-7.35719904],\n",
       "       [ 8.28583798],\n",
       "       [ 8.76083755],\n",
       "       [-4.8527968 ],\n",
       "       [-6.59566726],\n",
       "       [ 6.65805721],\n",
       "       [-7.47443764],\n",
       "       [ 9.18281977],\n",
       "       [-6.25966792],\n",
       "       [-6.48881325],\n",
       "       [ 7.77838285],\n",
       "       [ 9.86594589],\n",
       "       [-5.9027538 ],\n",
       "       [ 9.19191013],\n",
       "       [ 7.68407148],\n",
       "       [ 9.46281159],\n",
       "       [-0.94960326],\n",
       "       [-8.12744394],\n",
       "       [-7.51722274],\n",
       "       [ 9.97732686],\n",
       "       [ 8.13229286],\n",
       "       [ 8.98399772],\n",
       "       [-1.38883351],\n",
       "       [-1.01395204],\n",
       "       [ 8.783026  ],\n",
       "       [ 7.67719543],\n",
       "       [-0.85004083],\n",
       "       [ 8.43630258],\n",
       "       [-9.41650065],\n",
       "       [ 0.6694119 ],\n",
       "       [-6.56611453],\n",
       "       [-0.46303778],\n",
       "       [ 9.63181477],\n",
       "       [-5.42409825],\n",
       "       [11.15353077],\n",
       "       [-8.27450253],\n",
       "       [ 9.24543181],\n",
       "       [ 7.8175457 ],\n",
       "       [-7.26441248],\n",
       "       [ 7.96384709],\n",
       "       [-7.62128686],\n",
       "       [-2.0036733 ],\n",
       "       [-0.79289606],\n",
       "       [ 0.40619374],\n",
       "       [-6.16258678],\n",
       "       [-6.93614166],\n",
       "       [-3.08857289],\n",
       "       [-2.9453275 ],\n",
       "       [ 7.99171115],\n",
       "       [-0.52630364],\n",
       "       [-7.75000673],\n",
       "       [-6.96641371],\n",
       "       [ 8.28872719],\n",
       "       [-0.79680369],\n",
       "       [-1.48102133],\n",
       "       [-2.9336814 ],\n",
       "       [-2.31155617],\n",
       "       [ 9.31853124],\n",
       "       [ 8.86164788],\n",
       "       [ 8.99534763],\n",
       "       [-5.87181804],\n",
       "       [-0.33005255],\n",
       "       [-7.33696983],\n",
       "       [ 7.5587223 ]])"
      ]
     },
     "execution_count": 65,
     "metadata": {},
     "output_type": "execute_result"
    }
   ],
   "source": [
    "x_train"
   ]
  },
  {
   "cell_type": "code",
   "execution_count": 67,
   "id": "2f0a1707-993c-45be-9def-d937eb909948",
   "metadata": {},
   "outputs": [
    {
     "data": {
      "image/png": "[encoded data removed]",
      "text/plain": [
       "<Figure size 1200x400 with 1 Axes>"
      ]
     },
     "metadata": {},
     "output_type": "display_data"
    }
   ],
   "source": [
    "plt.figure(figsize=(12,4))\n",
    "plt.scatter(x_test,np.zeros(len(x_test)),c=y_test)\n",
    "plt.grid()\n",
    "plt.show()"
   ]
  },
  {
   "cell_type": "markdown",
   "id": "a25bca8a-4edc-4aac-b7e1-01d076a66454",
   "metadata": {},
   "source": [
    "# STep - 6 Training And Testing The Data"
   ]
  },
  {
   "cell_type": "code",
   "execution_count": 72,
   "id": "24f29163-332a-453e-8720-45cd6a756b23",
   "metadata": {},
   "outputs": [],
   "source": [
    "\n",
    "from sklearn.ensemble import RandomForestClassifier\n",
    "classifier= RandomForestClassifier(random_state=1)\n",
    "classifier.fit(x_train,y_train)\n",
    "y_pred=classifier.predict(x_test)"
   ]
  },
  {
   "cell_type": "code",
   "execution_count": 74,
   "id": "e8c8feb6-3866-4fb6-b424-d4a9898ff5d1",
   "metadata": {},
   "outputs": [
    {
     "name": "stdout",
     "output_type": "stream",
     "text": [
      "Accuracy : 1.0\n"
     ]
    }
   ],
   "source": [
    "# Step - 7: Evaluate The Model\n",
    "from sklearn.metrics import accuracy_score\n",
    "print(\"Accuracy : \"+str(accuracy_score(y_test,y_pred)))"
   ]
  },
  {
   "cell_type": "code",
   "execution_count": null,
   "id": "414ae04b-4d30-4539-af3f-2b7d5ca8b7a3",
   "metadata": {},
   "outputs": [],
   "source": []
  },
  {
   "cell_type": "code",
   "execution_count": null,
   "id": "39033667-b3e9-4b21-9326-44cf41f4ed5a",
   "metadata": {},
   "outputs": [],
   "source": []
  },
  {
   "cell_type": "code",
   "execution_count": null,
   "id": "6ff891b2-7253-462d-ba93-8dc42799f930",
   "metadata": {},
   "outputs": [],
   "source": []
  }
 ],
 "metadata": {
  "kernelspec": {
   "display_name": "Python 3 (ipykernel)",
   "language": "python",
   "name": "python3"
  },
  "language_info": {
   "codemirror_mode": {
    "name": "ipython",
    "version": 3
   },
   "file_extension": ".py",
   "mimetype": "text/x-python",
   "name": "python",
   "nbconvert_exporter": "python",
   "pygments_lexer": "ipython3",
   "version": "3.12.4"
  }
 },
 "nbformat": 4,
 "nbformat_minor": 5
}
